{
 "cells": [
  {
   "cell_type": "markdown",
   "metadata": {},
   "source": [
    "# Linear Regression for Time Series"
   ]
  },
  {
   "cell_type": "markdown",
   "metadata": {},
   "source": [
    "## Aim: Build a simple Linear Model that predicts the LDI index of a country in the future \n",
    "### Dataset \n",
    "*The OECD dataset merged with vdem dataset has been used for this project with some minor modifications (links for both will be provided below and also in the respository).*\n",
    "\n",
    "**Description:**\n",
    "The OECD dataset maintained by the OECD collects data on economic indicators of all the countries over many years. \n",
    "\n",
    "### Features\n",
    "* 1) LDI (Liberal Democracy Index)\n",
    "* 2) Total ODA (Official Development Assistance) spent for governance purposes by a country\n",
    "* 3) Total ODA spent by a country\n",
    "* 4) Purpose codes (for extracting goveranance data)\n",
    "\n",
    "### Independent Variables \n",
    "* LDI index (previous years)\n",
    "* Total ODA\n",
    "* Total ODA given to goveranance\n",
    "\n",
    "### Dependent Variables \n",
    "* LDI index (of the future)\n",
    "\n",
    "\n"
   ]
  },
  {
   "cell_type": "code",
   "execution_count": 3,
   "metadata": {},
   "outputs": [],
   "source": [
    "# Imports \n",
    "import pandas as pd \n",
    "import numpy as np \n",
    "import seaborn as sns \n",
    "import matplotlib as mpl \n",
    "import matplotlib.pyplot as plt"
   ]
  },
  {
   "cell_type": "code",
   "execution_count": 76,
   "metadata": {},
   "outputs": [],
   "source": [
    "# Source \n",
    "source = \"./oda.csv\"\n",
    "save = \"./models/\""
   ]
  },
  {
   "cell_type": "code",
   "execution_count": 18,
   "metadata": {},
   "outputs": [
    {
     "name": "stderr",
     "output_type": "stream",
     "text": [
      "C:\\Users\\bella\\anaconda3\\lib\\site-packages\\IPython\\core\\interactiveshell.py:3063: DtypeWarning: Columns (25) have mixed types.Specify dtype option on import or set low_memory=False.\n",
      "  interactivity=interactivity, compiler=compiler, result=result)\n"
     ]
    }
   ],
   "source": [
    "# Load the data \n",
    "data = pd.read_csv(source)"
   ]
  },
  {
   "cell_type": "code",
   "execution_count": 19,
   "metadata": {
    "collapsed": true
   },
   "outputs": [
    {
     "name": "stdout",
     "output_type": "stream",
     "text": [
      "<class 'pandas.core.frame.DataFrame'>\n",
      "RangeIndex: 1515724 entries, 0 to 1515723\n",
      "Data columns (total 65 columns):\n",
      " #   Column                               Non-Null Count    Dtype  \n",
      "---  ------                               --------------    -----  \n",
      " 0   Unnamed: 0                           1515724 non-null  int64  \n",
      " 1   Recipient Name                       1515724 non-null  object \n",
      " 2   Unnamed: 0_x                         1515724 non-null  int64  \n",
      " 3   Unnamed: 0.1                         1515724 non-null  int64  \n",
      " 4   SECTOR                               1515724 non-null  int64  \n",
      " 5   YEAR                                 1515724 non-null  int64  \n",
      " 6   Donor Name                           1515724 non-null  object \n",
      " 7   Donor Agency                         1515724 non-null  object \n",
      " 8   Region                               1515724 non-null  object \n",
      " 9   Income Group                         1515724 non-null  object \n",
      " 10  Channel of Delivery Code             1515724 non-null  int64  \n",
      " 11  Channel of Delivery Name             1404643 non-null  object \n",
      " 12  Category Code                        1515724 non-null  int64  \n",
      " 13  Category Name                        1515724 non-null  object \n",
      " 14  FinanceType Code                     1515724 non-null  int64  \n",
      " 15  FinanceType Name                     1515724 non-null  object \n",
      " 16  BiMulti Code                         1515724 non-null  int64  \n",
      " 17  Type of Aid Code                     1515724 non-null  object \n",
      " 18  Type of Aid Name                     1515724 non-null  object \n",
      " 19  Short Description                    1515650 non-null  object \n",
      " 20  Project title                        1499229 non-null  object \n",
      " 21  Purpose Code                         1515724 non-null  int64  \n",
      " 22  Purpose Name                         1515724 non-null  object \n",
      " 23  Sector                               1515724 non-null  object \n",
      " 24  Long Description                     1386653 non-null  object \n",
      " 25  SDG Focus                            104445 non-null   object \n",
      " 26  Gender equality                      1144554 non-null  float64\n",
      " 27  Environment                          1055720 non-null  float64\n",
      " 28  PDGG                                 1032273 non-null  float64\n",
      " 29  Biodiversity                         994874 non-null   float64\n",
      " 30  Climate Mitigation                   1018595 non-null  float64\n",
      " 31  Climate Adaptation                   1010471 non-null  float64\n",
      " 32  Amount Type                          1515724 non-null  object \n",
      " 33  Amount Tied USD million              720303 non-null   float64\n",
      " 34  Amount Untied USD million            862400 non-null   float64\n",
      " 35  Amount Partially Untied USD million  481841 non-null   float64\n",
      " 36  Nature of Submission                 1515724 non-null  int64  \n",
      " 37  Value                                1515724 non-null  float64\n",
      " 38  filename                             1515724 non-null  object \n",
      " 39  Amount                               1515724 non-null  float64\n",
      " 40  Unnamed: 0_y                         1515724 non-null  int64  \n",
      " 41  Regime                               1515724 non-null  int64  \n",
      " 42  Regime_Amb                           1515724 non-null  int64  \n",
      " 43  Population                           1515724 non-null  float64\n",
      " 44  v2x_polyarchy                        1515724 non-null  float64\n",
      " 45  v2x_libdem                           1515724 non-null  float64\n",
      " 46  v2x_partipdem                        1515724 non-null  float64\n",
      " 47  v2x_delibdem                         1515724 non-null  float64\n",
      " 48  v2x_egaldem                          1515724 non-null  float64\n",
      " 49  e_regiongeo                          1515724 non-null  int64  \n",
      " 50  e_migdpgro                           1239785 non-null  float64\n",
      " 51  e_migdppc                            1239785 non-null  float64\n",
      " 52  e_mipopula                           0 non-null        float64\n",
      " 53  e_miurbani                           0 non-null        float64\n",
      " 54  e_peinfmor                           849069 non-null   float64\n",
      " 55  e_pelifeex                           1480444 non-null  float64\n",
      " 56  e_civil_war                          0 non-null        float64\n",
      " 57  e_pt_coup                            1450088 non-null  float64\n",
      " 58  e_wbgi_cce                           1495002 non-null  float64\n",
      " 59  e_wbgi_gee                           1495002 non-null  float64\n",
      " 60  e_wbgi_pve                           1495002 non-null  float64\n",
      " 61  e_wbgi_rle                           1495002 non-null  float64\n",
      " 62  e_wbgi_rqe                           1495002 non-null  float64\n",
      " 63  e_wbgi_vae                           1495002 non-null  float64\n",
      " 64  ODA per capita                       1515724 non-null  float64\n",
      "dtypes: float64(32), int64(15), object(18)\n",
      "memory usage: 751.7+ MB\n"
     ]
    }
   ],
   "source": [
    "# Information \n",
    "# Getting a hang of the dataset\n",
    "data.info()"
   ]
  },
  {
   "cell_type": "code",
   "execution_count": 20,
   "metadata": {
    "collapsed": true
   },
   "outputs": [
    {
     "data": {
      "text/html": [
       "<div>\n",
       "<style scoped>\n",
       "    .dataframe tbody tr th:only-of-type {\n",
       "        vertical-align: middle;\n",
       "    }\n",
       "\n",
       "    .dataframe tbody tr th {\n",
       "        vertical-align: top;\n",
       "    }\n",
       "\n",
       "    .dataframe thead th {\n",
       "        text-align: right;\n",
       "    }\n",
       "</style>\n",
       "<table border=\"1\" class=\"dataframe\">\n",
       "  <thead>\n",
       "    <tr style=\"text-align: right;\">\n",
       "      <th></th>\n",
       "      <th>Unnamed: 0</th>\n",
       "      <th>Recipient Name</th>\n",
       "      <th>Unnamed: 0_x</th>\n",
       "      <th>Unnamed: 0.1</th>\n",
       "      <th>SECTOR</th>\n",
       "      <th>YEAR</th>\n",
       "      <th>Donor Name</th>\n",
       "      <th>Donor Agency</th>\n",
       "      <th>Region</th>\n",
       "      <th>Income Group</th>\n",
       "      <th>...</th>\n",
       "      <th>e_pelifeex</th>\n",
       "      <th>e_civil_war</th>\n",
       "      <th>e_pt_coup</th>\n",
       "      <th>e_wbgi_cce</th>\n",
       "      <th>e_wbgi_gee</th>\n",
       "      <th>e_wbgi_pve</th>\n",
       "      <th>e_wbgi_rle</th>\n",
       "      <th>e_wbgi_rqe</th>\n",
       "      <th>e_wbgi_vae</th>\n",
       "      <th>ODA per capita</th>\n",
       "    </tr>\n",
       "  </thead>\n",
       "  <tbody>\n",
       "    <tr>\n",
       "      <th>0</th>\n",
       "      <td>0</td>\n",
       "      <td>Afghanistan</td>\n",
       "      <td>120111</td>\n",
       "      <td>1082</td>\n",
       "      <td>43040</td>\n",
       "      <td>2010</td>\n",
       "      <td>Denmark</td>\n",
       "      <td>Ministry of Foreign Affairs</td>\n",
       "      <td>South &amp; Central Asia</td>\n",
       "      <td>LDCs</td>\n",
       "      <td>...</td>\n",
       "      <td>59.9</td>\n",
       "      <td>NaN</td>\n",
       "      <td>0.0</td>\n",
       "      <td>-1.636</td>\n",
       "      <td>-1.455</td>\n",
       "      <td>-2.579</td>\n",
       "      <td>-1.845</td>\n",
       "      <td>-1.533</td>\n",
       "      <td>-1.404</td>\n",
       "      <td>0.029264</td>\n",
       "    </tr>\n",
       "    <tr>\n",
       "      <th>3104</th>\n",
       "      <td>3104</td>\n",
       "      <td>Afghanistan</td>\n",
       "      <td>438922</td>\n",
       "      <td>425523</td>\n",
       "      <td>15130</td>\n",
       "      <td>2011</td>\n",
       "      <td>Denmark</td>\n",
       "      <td>Ministry of Foreign Affairs</td>\n",
       "      <td>South &amp; Central Asia</td>\n",
       "      <td>LDCs</td>\n",
       "      <td>...</td>\n",
       "      <td>60.4</td>\n",
       "      <td>NaN</td>\n",
       "      <td>0.0</td>\n",
       "      <td>-1.579</td>\n",
       "      <td>-1.448</td>\n",
       "      <td>-2.502</td>\n",
       "      <td>-1.897</td>\n",
       "      <td>-1.541</td>\n",
       "      <td>-1.336</td>\n",
       "      <td>0.126235</td>\n",
       "    </tr>\n",
       "    <tr>\n",
       "      <th>6132</th>\n",
       "      <td>6132</td>\n",
       "      <td>Afghanistan</td>\n",
       "      <td>550462</td>\n",
       "      <td>603981</td>\n",
       "      <td>11130</td>\n",
       "      <td>2012</td>\n",
       "      <td>Belgium</td>\n",
       "      <td>Directorate General for Co-operation and Devel...</td>\n",
       "      <td>South &amp; Central Asia</td>\n",
       "      <td>LDCs</td>\n",
       "      <td>...</td>\n",
       "      <td>60.8</td>\n",
       "      <td>NaN</td>\n",
       "      <td>0.0</td>\n",
       "      <td>-1.420</td>\n",
       "      <td>-1.360</td>\n",
       "      <td>-2.419</td>\n",
       "      <td>-1.643</td>\n",
       "      <td>-1.193</td>\n",
       "      <td>-1.267</td>\n",
       "      <td>0.009504</td>\n",
       "    </tr>\n",
       "    <tr>\n",
       "      <th>9141</th>\n",
       "      <td>9141</td>\n",
       "      <td>Afghanistan</td>\n",
       "      <td>700757</td>\n",
       "      <td>779925</td>\n",
       "      <td>11130</td>\n",
       "      <td>2013</td>\n",
       "      <td>Belgium</td>\n",
       "      <td>Directorate General for Co-operation and Devel...</td>\n",
       "      <td>South &amp; Central Asia</td>\n",
       "      <td>LDCs</td>\n",
       "      <td>...</td>\n",
       "      <td>61.3</td>\n",
       "      <td>NaN</td>\n",
       "      <td>0.0</td>\n",
       "      <td>-1.437</td>\n",
       "      <td>-1.385</td>\n",
       "      <td>-2.519</td>\n",
       "      <td>-1.597</td>\n",
       "      <td>-1.193</td>\n",
       "      <td>-1.240</td>\n",
       "      <td>0.002265</td>\n",
       "    </tr>\n",
       "    <tr>\n",
       "      <th>11888</th>\n",
       "      <td>11888</td>\n",
       "      <td>Afghanistan</td>\n",
       "      <td>849271</td>\n",
       "      <td>958287</td>\n",
       "      <td>11130</td>\n",
       "      <td>2014</td>\n",
       "      <td>Belgium</td>\n",
       "      <td>Directorate General for Co-operation and Devel...</td>\n",
       "      <td>South &amp; Central Asia</td>\n",
       "      <td>LDCs</td>\n",
       "      <td>...</td>\n",
       "      <td>61.2</td>\n",
       "      <td>NaN</td>\n",
       "      <td>0.0</td>\n",
       "      <td>-1.355</td>\n",
       "      <td>-1.331</td>\n",
       "      <td>-2.411</td>\n",
       "      <td>-1.446</td>\n",
       "      <td>-1.118</td>\n",
       "      <td>-1.135</td>\n",
       "      <td>0.011653</td>\n",
       "    </tr>\n",
       "    <tr>\n",
       "      <th>...</th>\n",
       "      <td>...</td>\n",
       "      <td>...</td>\n",
       "      <td>...</td>\n",
       "      <td>...</td>\n",
       "      <td>...</td>\n",
       "      <td>...</td>\n",
       "      <td>...</td>\n",
       "      <td>...</td>\n",
       "      <td>...</td>\n",
       "      <td>...</td>\n",
       "      <td>...</td>\n",
       "      <td>...</td>\n",
       "      <td>...</td>\n",
       "      <td>...</td>\n",
       "      <td>...</td>\n",
       "      <td>...</td>\n",
       "      <td>...</td>\n",
       "      <td>...</td>\n",
       "      <td>...</td>\n",
       "      <td>...</td>\n",
       "      <td>...</td>\n",
       "    </tr>\n",
       "    <tr>\n",
       "      <th>1509133</th>\n",
       "      <td>1509133</td>\n",
       "      <td>Zimbabwe</td>\n",
       "      <td>950658</td>\n",
       "      <td>1135284</td>\n",
       "      <td>11240</td>\n",
       "      <td>2015</td>\n",
       "      <td>Belgium</td>\n",
       "      <td>Directorate General for Co-operation and Devel...</td>\n",
       "      <td>South of Sahara</td>\n",
       "      <td>Other LICs</td>\n",
       "      <td>...</td>\n",
       "      <td>59.6</td>\n",
       "      <td>NaN</td>\n",
       "      <td>0.0</td>\n",
       "      <td>-1.310</td>\n",
       "      <td>-1.158</td>\n",
       "      <td>-0.618</td>\n",
       "      <td>-1.318</td>\n",
       "      <td>-1.654</td>\n",
       "      <td>-1.166</td>\n",
       "      <td>0.058309</td>\n",
       "    </tr>\n",
       "    <tr>\n",
       "      <th>1510312</th>\n",
       "      <td>1510312</td>\n",
       "      <td>Zimbabwe</td>\n",
       "      <td>1087935</td>\n",
       "      <td>1310356</td>\n",
       "      <td>11240</td>\n",
       "      <td>2016</td>\n",
       "      <td>Belgium</td>\n",
       "      <td>Directorate General for Co-operation and Devel...</td>\n",
       "      <td>South of Sahara</td>\n",
       "      <td>Other LICs</td>\n",
       "      <td>...</td>\n",
       "      <td>60.5</td>\n",
       "      <td>NaN</td>\n",
       "      <td>0.0</td>\n",
       "      <td>-1.259</td>\n",
       "      <td>-1.158</td>\n",
       "      <td>-0.620</td>\n",
       "      <td>-1.368</td>\n",
       "      <td>-1.720</td>\n",
       "      <td>-1.177</td>\n",
       "      <td>0.118850</td>\n",
       "    </tr>\n",
       "    <tr>\n",
       "      <th>1511493</th>\n",
       "      <td>1511493</td>\n",
       "      <td>Zimbabwe</td>\n",
       "      <td>1220114</td>\n",
       "      <td>1483410</td>\n",
       "      <td>11240</td>\n",
       "      <td>2017</td>\n",
       "      <td>Belgium</td>\n",
       "      <td>Directorate General for Co-operation and Devel...</td>\n",
       "      <td>South of Sahara</td>\n",
       "      <td>Other LICs</td>\n",
       "      <td>...</td>\n",
       "      <td>61.4</td>\n",
       "      <td>NaN</td>\n",
       "      <td>2.0</td>\n",
       "      <td>-1.273</td>\n",
       "      <td>-1.189</td>\n",
       "      <td>-0.709</td>\n",
       "      <td>-1.378</td>\n",
       "      <td>-1.563</td>\n",
       "      <td>-1.194</td>\n",
       "      <td>0.040813</td>\n",
       "    </tr>\n",
       "    <tr>\n",
       "      <th>1512673</th>\n",
       "      <td>1512673</td>\n",
       "      <td>Zimbabwe</td>\n",
       "      <td>1415753</td>\n",
       "      <td>1672181</td>\n",
       "      <td>15160</td>\n",
       "      <td>2018</td>\n",
       "      <td>Sweden</td>\n",
       "      <td>Swedish International Development Authority</td>\n",
       "      <td>South of Sahara</td>\n",
       "      <td>Other LICs</td>\n",
       "      <td>...</td>\n",
       "      <td>61.7</td>\n",
       "      <td>NaN</td>\n",
       "      <td>0.0</td>\n",
       "      <td>-1.235</td>\n",
       "      <td>-1.199</td>\n",
       "      <td>-0.713</td>\n",
       "      <td>-1.273</td>\n",
       "      <td>-1.504</td>\n",
       "      <td>-1.123</td>\n",
       "      <td>0.063834</td>\n",
       "    </tr>\n",
       "    <tr>\n",
       "      <th>1514051</th>\n",
       "      <td>1514051</td>\n",
       "      <td>Zimbabwe</td>\n",
       "      <td>242645</td>\n",
       "      <td>188945</td>\n",
       "      <td>13040</td>\n",
       "      <td>2019</td>\n",
       "      <td>Ireland</td>\n",
       "      <td>Department of Agriculture, Food and the Marine</td>\n",
       "      <td>South of Sahara</td>\n",
       "      <td>Other LICs</td>\n",
       "      <td>...</td>\n",
       "      <td>62.0</td>\n",
       "      <td>NaN</td>\n",
       "      <td>0.0</td>\n",
       "      <td>-1.239</td>\n",
       "      <td>-1.205</td>\n",
       "      <td>-0.920</td>\n",
       "      <td>-1.257</td>\n",
       "      <td>-1.463</td>\n",
       "      <td>-1.142</td>\n",
       "      <td>0.002286</td>\n",
       "    </tr>\n",
       "  </tbody>\n",
       "</table>\n",
       "<p>1239 rows × 65 columns</p>\n",
       "</div>"
      ],
      "text/plain": [
       "         Unnamed: 0 Recipient Name  Unnamed: 0_x  Unnamed: 0.1  SECTOR  YEAR  \\\n",
       "0                 0    Afghanistan        120111          1082   43040  2010   \n",
       "3104           3104    Afghanistan        438922        425523   15130  2011   \n",
       "6132           6132    Afghanistan        550462        603981   11130  2012   \n",
       "9141           9141    Afghanistan        700757        779925   11130  2013   \n",
       "11888         11888    Afghanistan        849271        958287   11130  2014   \n",
       "...             ...            ...           ...           ...     ...   ...   \n",
       "1509133     1509133       Zimbabwe        950658       1135284   11240  2015   \n",
       "1510312     1510312       Zimbabwe       1087935       1310356   11240  2016   \n",
       "1511493     1511493       Zimbabwe       1220114       1483410   11240  2017   \n",
       "1512673     1512673       Zimbabwe       1415753       1672181   15160  2018   \n",
       "1514051     1514051       Zimbabwe        242645        188945   13040  2019   \n",
       "\n",
       "        Donor Name                                       Donor Agency  \\\n",
       "0          Denmark                        Ministry of Foreign Affairs   \n",
       "3104       Denmark                        Ministry of Foreign Affairs   \n",
       "6132       Belgium  Directorate General for Co-operation and Devel...   \n",
       "9141       Belgium  Directorate General for Co-operation and Devel...   \n",
       "11888      Belgium  Directorate General for Co-operation and Devel...   \n",
       "...            ...                                                ...   \n",
       "1509133    Belgium  Directorate General for Co-operation and Devel...   \n",
       "1510312    Belgium  Directorate General for Co-operation and Devel...   \n",
       "1511493    Belgium  Directorate General for Co-operation and Devel...   \n",
       "1512673     Sweden        Swedish International Development Authority   \n",
       "1514051    Ireland     Department of Agriculture, Food and the Marine   \n",
       "\n",
       "                       Region Income Group  ...  e_pelifeex e_civil_war  \\\n",
       "0        South & Central Asia         LDCs  ...        59.9         NaN   \n",
       "3104     South & Central Asia         LDCs  ...        60.4         NaN   \n",
       "6132     South & Central Asia         LDCs  ...        60.8         NaN   \n",
       "9141     South & Central Asia         LDCs  ...        61.3         NaN   \n",
       "11888    South & Central Asia         LDCs  ...        61.2         NaN   \n",
       "...                       ...          ...  ...         ...         ...   \n",
       "1509133       South of Sahara   Other LICs  ...        59.6         NaN   \n",
       "1510312       South of Sahara   Other LICs  ...        60.5         NaN   \n",
       "1511493       South of Sahara   Other LICs  ...        61.4         NaN   \n",
       "1512673       South of Sahara   Other LICs  ...        61.7         NaN   \n",
       "1514051       South of Sahara   Other LICs  ...        62.0         NaN   \n",
       "\n",
       "         e_pt_coup e_wbgi_cce  e_wbgi_gee e_wbgi_pve  e_wbgi_rle e_wbgi_rqe  \\\n",
       "0              0.0     -1.636      -1.455     -2.579      -1.845     -1.533   \n",
       "3104           0.0     -1.579      -1.448     -2.502      -1.897     -1.541   \n",
       "6132           0.0     -1.420      -1.360     -2.419      -1.643     -1.193   \n",
       "9141           0.0     -1.437      -1.385     -2.519      -1.597     -1.193   \n",
       "11888          0.0     -1.355      -1.331     -2.411      -1.446     -1.118   \n",
       "...            ...        ...         ...        ...         ...        ...   \n",
       "1509133        0.0     -1.310      -1.158     -0.618      -1.318     -1.654   \n",
       "1510312        0.0     -1.259      -1.158     -0.620      -1.368     -1.720   \n",
       "1511493        2.0     -1.273      -1.189     -0.709      -1.378     -1.563   \n",
       "1512673        0.0     -1.235      -1.199     -0.713      -1.273     -1.504   \n",
       "1514051        0.0     -1.239      -1.205     -0.920      -1.257     -1.463   \n",
       "\n",
       "        e_wbgi_vae ODA per capita  \n",
       "0           -1.404       0.029264  \n",
       "3104        -1.336       0.126235  \n",
       "6132        -1.267       0.009504  \n",
       "9141        -1.240       0.002265  \n",
       "11888       -1.135       0.011653  \n",
       "...            ...            ...  \n",
       "1509133     -1.166       0.058309  \n",
       "1510312     -1.177       0.118850  \n",
       "1511493     -1.194       0.040813  \n",
       "1512673     -1.123       0.063834  \n",
       "1514051     -1.142       0.002286  \n",
       "\n",
       "[1239 rows x 65 columns]"
      ]
     },
     "execution_count": 20,
     "metadata": {},
     "output_type": "execute_result"
    }
   ],
   "source": [
    "# Dropping duplicates in the dataset\n",
    "data.drop_duplicates(subset = [\"Recipient Name\" , \"YEAR\"])"
   ]
  },
  {
   "cell_type": "markdown",
   "metadata": {},
   "source": [
    "### Utility functions"
   ]
  },
  {
   "cell_type": "code",
   "execution_count": 49,
   "metadata": {},
   "outputs": [],
   "source": [
    "# Truncating windows to \n",
    "# Functions for array windowing\n",
    "def create_windowed_arrays(array, window_length=9):\n",
    "    zipped_array = zip(*[array[i:] for i in range(window_length)])\n",
    "    return np.array(list(zipped_array))\n",
    "\n",
    "# Create window truncated X and y \n",
    "def create_x_y_truncated(dataset, window_length=9, features_size = 1):\n",
    "    truncated_dataset = np.array([create_windowed_arrays(array,window_length) for array in dataset])\n",
    "    truncated_dataset = truncated_dataset.reshape(-1, window_length, features_size)\n",
    "    return truncated_dataset[:, :-1], truncated_dataset[:, -1:, 2]"
   ]
  },
  {
   "cell_type": "code",
   "execution_count": 50,
   "metadata": {},
   "outputs": [],
   "source": [
    "# Shufle X and y funciton \n",
    "def shuffle_x_y(X, y):\n",
    "    indices = np.arange(len(X))\n",
    "    shuffle_indices = np.random.permutation(indices)\n",
    "    return X[shuffle_indices], y[shuffle_indices]"
   ]
  },
  {
   "cell_type": "markdown",
   "metadata": {},
   "source": [
    "## Pivot tables to find out cummulative ODA assistance given to each country\n",
    "Three different pivot tables - one for each of the independent variables must be created "
   ]
  },
  {
   "cell_type": "code",
   "execution_count": 21,
   "metadata": {
    "collapsed": true
   },
   "outputs": [
    {
     "data": {
      "text/html": [
       "<div>\n",
       "<style scoped>\n",
       "    .dataframe tbody tr th:only-of-type {\n",
       "        vertical-align: middle;\n",
       "    }\n",
       "\n",
       "    .dataframe tbody tr th {\n",
       "        vertical-align: top;\n",
       "    }\n",
       "\n",
       "    .dataframe thead th {\n",
       "        text-align: right;\n",
       "    }\n",
       "</style>\n",
       "<table border=\"1\" class=\"dataframe\">\n",
       "  <thead>\n",
       "    <tr style=\"text-align: right;\">\n",
       "      <th></th>\n",
       "      <th>Unnamed: 0</th>\n",
       "      <th>Recipient Name</th>\n",
       "      <th>Unnamed: 0_x</th>\n",
       "      <th>Unnamed: 0.1</th>\n",
       "      <th>SECTOR</th>\n",
       "      <th>YEAR</th>\n",
       "      <th>Donor Name</th>\n",
       "      <th>Donor Agency</th>\n",
       "      <th>Region</th>\n",
       "      <th>Income Group</th>\n",
       "      <th>...</th>\n",
       "      <th>e_pelifeex</th>\n",
       "      <th>e_civil_war</th>\n",
       "      <th>e_pt_coup</th>\n",
       "      <th>e_wbgi_cce</th>\n",
       "      <th>e_wbgi_gee</th>\n",
       "      <th>e_wbgi_pve</th>\n",
       "      <th>e_wbgi_rle</th>\n",
       "      <th>e_wbgi_rqe</th>\n",
       "      <th>e_wbgi_vae</th>\n",
       "      <th>ODA per capita</th>\n",
       "    </tr>\n",
       "  </thead>\n",
       "  <tbody>\n",
       "    <tr>\n",
       "      <th>0</th>\n",
       "      <td>0</td>\n",
       "      <td>Afghanistan</td>\n",
       "      <td>120111</td>\n",
       "      <td>1082</td>\n",
       "      <td>43040</td>\n",
       "      <td>2010</td>\n",
       "      <td>Denmark</td>\n",
       "      <td>Ministry of Foreign Affairs</td>\n",
       "      <td>South &amp; Central Asia</td>\n",
       "      <td>LDCs</td>\n",
       "      <td>...</td>\n",
       "      <td>59.9</td>\n",
       "      <td>NaN</td>\n",
       "      <td>0.0</td>\n",
       "      <td>-1.636</td>\n",
       "      <td>-1.455</td>\n",
       "      <td>-2.579</td>\n",
       "      <td>-1.845</td>\n",
       "      <td>-1.533</td>\n",
       "      <td>-1.404</td>\n",
       "      <td>0.029264</td>\n",
       "    </tr>\n",
       "    <tr>\n",
       "      <th>1</th>\n",
       "      <td>1</td>\n",
       "      <td>Afghanistan</td>\n",
       "      <td>120112</td>\n",
       "      <td>1083</td>\n",
       "      <td>43040</td>\n",
       "      <td>2010</td>\n",
       "      <td>Denmark</td>\n",
       "      <td>Ministry of Foreign Affairs</td>\n",
       "      <td>South &amp; Central Asia</td>\n",
       "      <td>LDCs</td>\n",
       "      <td>...</td>\n",
       "      <td>59.9</td>\n",
       "      <td>NaN</td>\n",
       "      <td>0.0</td>\n",
       "      <td>-1.636</td>\n",
       "      <td>-1.455</td>\n",
       "      <td>-2.579</td>\n",
       "      <td>-1.845</td>\n",
       "      <td>-1.533</td>\n",
       "      <td>-1.404</td>\n",
       "      <td>0.117057</td>\n",
       "    </tr>\n",
       "    <tr>\n",
       "      <th>2</th>\n",
       "      <td>2</td>\n",
       "      <td>Afghanistan</td>\n",
       "      <td>120113</td>\n",
       "      <td>1084</td>\n",
       "      <td>11120</td>\n",
       "      <td>2010</td>\n",
       "      <td>Denmark</td>\n",
       "      <td>Ministry of Foreign Affairs</td>\n",
       "      <td>South &amp; Central Asia</td>\n",
       "      <td>LDCs</td>\n",
       "      <td>...</td>\n",
       "      <td>59.9</td>\n",
       "      <td>NaN</td>\n",
       "      <td>0.0</td>\n",
       "      <td>-1.636</td>\n",
       "      <td>-1.455</td>\n",
       "      <td>-2.579</td>\n",
       "      <td>-1.845</td>\n",
       "      <td>-1.533</td>\n",
       "      <td>-1.404</td>\n",
       "      <td>0.476839</td>\n",
       "    </tr>\n",
       "    <tr>\n",
       "      <th>3</th>\n",
       "      <td>3</td>\n",
       "      <td>Afghanistan</td>\n",
       "      <td>120114</td>\n",
       "      <td>1085</td>\n",
       "      <td>11120</td>\n",
       "      <td>2010</td>\n",
       "      <td>Denmark</td>\n",
       "      <td>Ministry of Foreign Affairs</td>\n",
       "      <td>South &amp; Central Asia</td>\n",
       "      <td>LDCs</td>\n",
       "      <td>...</td>\n",
       "      <td>59.9</td>\n",
       "      <td>NaN</td>\n",
       "      <td>0.0</td>\n",
       "      <td>-1.636</td>\n",
       "      <td>-1.455</td>\n",
       "      <td>-2.579</td>\n",
       "      <td>-1.845</td>\n",
       "      <td>-1.533</td>\n",
       "      <td>-1.404</td>\n",
       "      <td>0.000836</td>\n",
       "    </tr>\n",
       "    <tr>\n",
       "      <th>4</th>\n",
       "      <td>4</td>\n",
       "      <td>Afghanistan</td>\n",
       "      <td>120115</td>\n",
       "      <td>1086</td>\n",
       "      <td>11220</td>\n",
       "      <td>2010</td>\n",
       "      <td>Denmark</td>\n",
       "      <td>Ministry of Foreign Affairs</td>\n",
       "      <td>South &amp; Central Asia</td>\n",
       "      <td>LDCs</td>\n",
       "      <td>...</td>\n",
       "      <td>59.9</td>\n",
       "      <td>NaN</td>\n",
       "      <td>0.0</td>\n",
       "      <td>-1.636</td>\n",
       "      <td>-1.455</td>\n",
       "      <td>-2.579</td>\n",
       "      <td>-1.845</td>\n",
       "      <td>-1.533</td>\n",
       "      <td>-1.404</td>\n",
       "      <td>0.005096</td>\n",
       "    </tr>\n",
       "  </tbody>\n",
       "</table>\n",
       "<p>5 rows × 65 columns</p>\n",
       "</div>"
      ],
      "text/plain": [
       "   Unnamed: 0 Recipient Name  Unnamed: 0_x  Unnamed: 0.1  SECTOR  YEAR  \\\n",
       "0           0    Afghanistan        120111          1082   43040  2010   \n",
       "1           1    Afghanistan        120112          1083   43040  2010   \n",
       "2           2    Afghanistan        120113          1084   11120  2010   \n",
       "3           3    Afghanistan        120114          1085   11120  2010   \n",
       "4           4    Afghanistan        120115          1086   11220  2010   \n",
       "\n",
       "  Donor Name                 Donor Agency                Region Income Group  \\\n",
       "0    Denmark  Ministry of Foreign Affairs  South & Central Asia         LDCs   \n",
       "1    Denmark  Ministry of Foreign Affairs  South & Central Asia         LDCs   \n",
       "2    Denmark  Ministry of Foreign Affairs  South & Central Asia         LDCs   \n",
       "3    Denmark  Ministry of Foreign Affairs  South & Central Asia         LDCs   \n",
       "4    Denmark  Ministry of Foreign Affairs  South & Central Asia         LDCs   \n",
       "\n",
       "   ...  e_pelifeex e_civil_war  e_pt_coup e_wbgi_cce  e_wbgi_gee e_wbgi_pve  \\\n",
       "0  ...        59.9         NaN        0.0     -1.636      -1.455     -2.579   \n",
       "1  ...        59.9         NaN        0.0     -1.636      -1.455     -2.579   \n",
       "2  ...        59.9         NaN        0.0     -1.636      -1.455     -2.579   \n",
       "3  ...        59.9         NaN        0.0     -1.636      -1.455     -2.579   \n",
       "4  ...        59.9         NaN        0.0     -1.636      -1.455     -2.579   \n",
       "\n",
       "   e_wbgi_rle e_wbgi_rqe e_wbgi_vae ODA per capita  \n",
       "0      -1.845     -1.533     -1.404       0.029264  \n",
       "1      -1.845     -1.533     -1.404       0.117057  \n",
       "2      -1.845     -1.533     -1.404       0.476839  \n",
       "3      -1.845     -1.533     -1.404       0.000836  \n",
       "4      -1.845     -1.533     -1.404       0.005096  \n",
       "\n",
       "[5 rows x 65 columns]"
      ]
     },
     "execution_count": 21,
     "metadata": {},
     "output_type": "execute_result"
    }
   ],
   "source": [
    "data.head()"
   ]
  },
  {
   "cell_type": "code",
   "execution_count": 22,
   "metadata": {},
   "outputs": [],
   "source": [
    "# Total amount \n",
    "total_amount = pd.pivot_table(data, index = [\"Recipient Name\"], values = \"Amount\", columns = \"YEAR\")"
   ]
  },
  {
   "cell_type": "code",
   "execution_count": 23,
   "metadata": {},
   "outputs": [],
   "source": [
    "# Total Gov amount \n",
    "Gov = (data['Purpose Code']>=15110)&(data['Purpose Code']<=15190)\n",
    "ODAGov = data[Gov]\n",
    "gov_total_amount = pd.pivot_table(ODAGov, index = [\"Recipient Name\"], values = \"Amount\", columns = \"YEAR\")"
   ]
  },
  {
   "cell_type": "code",
   "execution_count": 24,
   "metadata": {},
   "outputs": [],
   "source": [
    "# LDI \n",
    "ldi = pd.pivot_table(data, index = [\"Recipient Name\"], values = \"v2x_libdem\", columns = \"YEAR\")"
   ]
  },
  {
   "cell_type": "code",
   "execution_count": 26,
   "metadata": {},
   "outputs": [],
   "source": [
    "# Forming the required data\n",
    "required_columns = [\"Recipient Name\" , \"v2x_libdem\", \"Amount\", \"Purpose Code\"]\n",
    "data = data.loc[:, required_columns]"
   ]
  },
  {
   "cell_type": "markdown",
   "metadata": {},
   "source": [
    "### Data set clearing \n",
    "Check if any values are missing. Remove the country if there is data missing"
   ]
  },
  {
   "cell_type": "code",
   "execution_count": 25,
   "metadata": {
    "collapsed": true
   },
   "outputs": [
    {
     "data": {
      "text/plain": [
       "(YEAR\n",
       " 2010     True\n",
       " 2011    False\n",
       " 2012    False\n",
       " 2013    False\n",
       " 2014    False\n",
       " 2015    False\n",
       " 2016    False\n",
       " 2017    False\n",
       " 2018    False\n",
       " 2019    False\n",
       " dtype: bool,\n",
       " YEAR\n",
       " 2010     True\n",
       " 2011    False\n",
       " 2012    False\n",
       " 2013    False\n",
       " 2014    False\n",
       " 2015    False\n",
       " 2016    False\n",
       " 2017    False\n",
       " 2018    False\n",
       " 2019    False\n",
       " dtype: bool,\n",
       " YEAR\n",
       " 2010     True\n",
       " 2011    False\n",
       " 2012    False\n",
       " 2013    False\n",
       " 2014    False\n",
       " 2015    False\n",
       " 2016    False\n",
       " 2017    False\n",
       " 2018    False\n",
       " 2019    False\n",
       " dtype: bool)"
      ]
     },
     "execution_count": 25,
     "metadata": {},
     "output_type": "execute_result"
    }
   ],
   "source": [
    "# Missing values in the dataset\n",
    "ldi.isna().any(), total_amount.isna().any(), gov_total_amount.isna().any()\n",
    "# IT seems that the missing values only occur in the year 2010"
   ]
  },
  {
   "cell_type": "code",
   "execution_count": 27,
   "metadata": {},
   "outputs": [
    {
     "name": "stdout",
     "output_type": "stream",
     "text": [
      "Index(['South Sudan'], dtype='object', name='Recipient Name')\n",
      "Index(['South Sudan'], dtype='object', name='Recipient Name')\n",
      "Index(['South Sudan'], dtype='object', name='Recipient Name')\n"
     ]
    }
   ],
   "source": [
    "print(ldi[2010][ldi[2010].isna()== True].index)\n",
    "print(total_amount[2010][total_amount[2010].isna()== True].index)\n",
    "print(gov_total_amount[2010][gov_total_amount[2010].isna()== True].index)"
   ]
  },
  {
   "cell_type": "code",
   "execution_count": 28,
   "metadata": {},
   "outputs": [],
   "source": [
    "# Dropping South Sudan from all of the years \n",
    "ldi_cleaned = ldi.drop(\"South Sudan\")\n",
    "gov_total_amount_cleaned = gov_total_amount.drop(\"South Sudan\")\n",
    "total_amount_cleaned = total_amount.drop(\"South Sudan\")"
   ]
  },
  {
   "cell_type": "markdown",
   "metadata": {},
   "source": [
    "### Numpy \n",
    "Converting the pandas Series to numpy for further data processing"
   ]
  },
  {
   "cell_type": "code",
   "execution_count": 29,
   "metadata": {},
   "outputs": [],
   "source": [
    "# Numpy conversion \n",
    "total_numpy = total_amount_cleaned.to_numpy()\n",
    "gov_numpy = gov_total_amount_cleaned.to_numpy()\n",
    "ldi_numpy = ldi_cleaned.to_numpy()"
   ]
  },
  {
   "cell_type": "code",
   "execution_count": 30,
   "metadata": {},
   "outputs": [
    {
     "data": {
      "text/plain": [
       "(123, 10)"
      ]
     },
     "execution_count": 30,
     "metadata": {},
     "output_type": "execute_result"
    }
   ],
   "source": [
    "# ALl have the shape (124, 10)\n",
    "ldi_numpy.shape"
   ]
  },
  {
   "cell_type": "markdown",
   "metadata": {},
   "source": [
    "To predict for the future, we need a dataset in place with all the three feature in accordance with time years"
   ]
  },
  {
   "cell_type": "code",
   "execution_count": 31,
   "metadata": {},
   "outputs": [],
   "source": [
    "# The sequence must be this way x-> [[[total, amount for Afg], [total , amount for Ang]]] => for year 2000 to 2019]\n",
    "# y must be [[value for time series Afg, value for time series Ang so on] in 2010 ]"
   ]
  },
  {
   "cell_type": "code",
   "execution_count": 32,
   "metadata": {},
   "outputs": [],
   "source": [
    "# Making the required dataset \n",
    "# Shape required => (10, 124, 2) [10 years, 123 countries, 2 features] # just an example\n",
    "total_numpy_T = (total_numpy.T)\n",
    "gov_numpy_T = (gov_numpy.T)"
   ]
  },
  {
   "cell_type": "code",
   "execution_count": 33,
   "metadata": {},
   "outputs": [],
   "source": [
    "# Shape \n",
    "# [countries, time series, 3 features] > batch_size, time_samples, features\n",
    "dataset = np.c_[gov_numpy.reshape(123, 10, 1), total_numpy.reshape(123, 10, 1), ldi_numpy.reshape(123, 10, 1)]\n",
    "# []"
   ]
  },
  {
   "cell_type": "code",
   "execution_count": 34,
   "metadata": {},
   "outputs": [],
   "source": [
    "# X and y division \n",
    "time_length = dataset.shape[1] # 10\n",
    "X = dataset[:, :time_length - 1, :] # 0-8 -> 9years\n",
    "y = dataset[:, time_length-1, 2] # [gov, amo, ldi]"
   ]
  },
  {
   "cell_type": "code",
   "execution_count": 35,
   "metadata": {},
   "outputs": [
    {
     "data": {
      "text/plain": [
       "(array([[0.24895241, 0.65477641, 0.346     ],\n",
       "        [0.24681782, 0.83411701, 0.344     ],\n",
       "        [0.35924375, 1.03165187, 0.342     ],\n",
       "        [0.38556713, 1.15930826, 0.384     ],\n",
       "        [0.36487786, 0.92538841, 0.392     ],\n",
       "        [0.48443301, 0.93404607, 0.392     ],\n",
       "        [0.46221733, 0.91160505, 0.39      ],\n",
       "        [0.61211019, 0.95163896, 0.38      ],\n",
       "        [0.66367556, 0.80492928, 0.352     ]]),\n",
       " 0.36200000000001314)"
      ]
     },
     "execution_count": 35,
     "metadata": {},
     "output_type": "execute_result"
    }
   ],
   "source": [
    "# Total , gov, LDI\n",
    "X[56], y[56]"
   ]
  },
  {
   "cell_type": "code",
   "execution_count": 36,
   "metadata": {},
   "outputs": [
    {
     "data": {
      "text/plain": [
       "array([[0.24895241, 0.65477641, 0.346     ],\n",
       "       [0.24681782, 0.83411701, 0.344     ],\n",
       "       [0.35924375, 1.03165187, 0.342     ],\n",
       "       [0.38556713, 1.15930826, 0.384     ],\n",
       "       [0.36487786, 0.92538841, 0.392     ],\n",
       "       [0.48443301, 0.93404607, 0.392     ],\n",
       "       [0.46221733, 0.91160505, 0.39      ],\n",
       "       [0.61211019, 0.95163896, 0.38      ],\n",
       "       [0.66367556, 0.80492928, 0.352     ],\n",
       "       [0.81259975, 0.94765951, 0.362     ]])"
      ]
     },
     "execution_count": 36,
     "metadata": {},
     "output_type": "execute_result"
    }
   ],
   "source": [
    "dataset[56]"
   ]
  },
  {
   "cell_type": "markdown",
   "metadata": {},
   "source": [
    "### Prediction for year 2021\n",
    "$y(2021) = m1*(totalODA_2010)+m2*(govODA_2010)+m3*(ld_2010)+ m1*(totalODA_2010)+m2*(govODA_2010)+m3*(ld_2011)+m1*(totalODA_2010)+m2*(govODA_2010)+m3*(ld_2012)+m1*(totalODA_2010)+m2*(govODA_2010)+m3*(ld_2013)+m1*(totalODA_2010)+m2*(govODA_2010)+m3*(ld_2019)\n",
    "+ c$ \n",
    "\n",
    "**31 parameters in total**"
   ]
  },
  {
   "cell_type": "markdown",
   "metadata": {},
   "source": [
    "### Sample Model\n",
    "This sample model will consider 10 years data to predict one year in the future. The number of years considered will be tweaked later to obtain optimum performance. "
   ]
  },
  {
   "cell_type": "code",
   "execution_count": 39,
   "metadata": {},
   "outputs": [],
   "source": [
    "# Implementing a simple sklearn model \n",
    "from sklearn.linear_model import LinearRegression \n",
    "lr = LinearRegression()"
   ]
  },
  {
   "cell_type": "code",
   "execution_count": 40,
   "metadata": {},
   "outputs": [],
   "source": [
    "# Converting the time series into a flattened array with features \n",
    "X_sample = X.reshape(-1, 27) #(3*9)"
   ]
  },
  {
   "cell_type": "code",
   "execution_count": 41,
   "metadata": {},
   "outputs": [
    {
     "data": {
      "text/plain": [
       "LinearRegression(copy_X=True, fit_intercept=True, n_jobs=None, normalize=False)"
      ]
     },
     "execution_count": 41,
     "metadata": {},
     "output_type": "execute_result"
    }
   ],
   "source": [
    "# Training\n",
    "lr.fit(X_sample, y) # Finding the coefficient and interecept"
   ]
  },
  {
   "cell_type": "code",
   "execution_count": 42,
   "metadata": {},
   "outputs": [
    {
     "data": {
      "text/plain": [
       "array([0.04945208])"
      ]
     },
     "execution_count": 42,
     "metadata": {},
     "output_type": "execute_result"
    }
   ],
   "source": [
    "lr.predict(X[120].reshape(1, -1)) # check if it is working "
   ]
  },
  {
   "cell_type": "code",
   "execution_count": 43,
   "metadata": {},
   "outputs": [
    {
     "data": {
      "text/plain": [
       "0.04500000000000128"
      ]
     },
     "execution_count": 43,
     "metadata": {},
     "output_type": "execute_result"
    }
   ],
   "source": [
    "y[120]"
   ]
  },
  {
   "cell_type": "code",
   "execution_count": 44,
   "metadata": {},
   "outputs": [
    {
     "data": {
      "text/plain": [
       "0.18700000000000824"
      ]
     },
     "execution_count": 44,
     "metadata": {},
     "output_type": "execute_result"
    }
   ],
   "source": [
    "y[0]"
   ]
  },
  {
   "cell_type": "code",
   "execution_count": 45,
   "metadata": {},
   "outputs": [
    {
     "data": {
      "text/plain": [
       "array([2.45989424, 2.15002667, 0.222     , 2.84809764, 2.18438161,\n",
       "       0.223     , 4.3756989 , 2.12483418, 0.224     , 2.60717454,\n",
       "       1.80648563, 0.221     , 3.02225357, 2.01162727, 0.224     ,\n",
       "       3.90517013, 2.10781768, 0.227     , 3.98913299, 2.11545536,\n",
       "       0.201     , 3.27038857, 1.85011457, 0.199     , 2.92117726,\n",
       "       1.58531098, 0.193     ])"
      ]
     },
     "execution_count": 45,
     "metadata": {},
     "output_type": "execute_result"
    }
   ],
   "source": [
    "X_sample[0] # 9 # 10th year LDI -> y "
   ]
  },
  {
   "cell_type": "code",
   "execution_count": 46,
   "metadata": {},
   "outputs": [
    {
     "data": {
      "text/plain": [
       "array([-0.00424725, -0.00261485, -0.00137753, -0.00092924, -0.00749077])"
      ]
     },
     "execution_count": 46,
     "metadata": {},
     "output_type": "execute_result"
    }
   ],
   "source": [
    "# Calculating the entire RMSE of the sample model \n",
    "from sklearn.model_selection import cross_val_score\n",
    "# If we restrit to one training set -> training bais \n",
    "# Trains your model on [entire]=> [1-50], [25-70], [50-100], [75-125]\n",
    "cross_val_score(lr, X.reshape(123, -1), y, scoring=\"neg_mean_squared_error\") # Error"
   ]
  },
  {
   "cell_type": "code",
   "execution_count": 47,
   "metadata": {},
   "outputs": [
    {
     "name": "stdout",
     "output_type": "stream",
     "text": [
      "Average Error is : 0.057722856860090196\n"
     ]
    }
   ],
   "source": [
    "# Checking the rmse for the model \n",
    "lr = LinearRegression()\n",
    "cross_val = cross_val_score(lr, X.reshape(123, -1), y, scoring=\"neg_mean_squared_error\")\n",
    "print(\"Average Error is :\", np.sqrt(abs(cross_val.mean())))"
   ]
  },
  {
   "cell_type": "code",
   "execution_count": null,
   "metadata": {},
   "outputs": [],
   "source": [
    "# 123 data points \n",
    "# 10 => batches of 4\n",
    "# []"
   ]
  },
  {
   "cell_type": "markdown",
   "metadata": {},
   "source": [
    "## Model Building\n",
    "This model will use only 4 years for Tranining instead of 10 years. The simple reason is the dataset can be artificially increase by truncating techniques. "
   ]
  },
  {
   "cell_type": "markdown",
   "metadata": {},
   "source": [
    "\n",
    "### 4 years to predict 1 (2021 -> 2017 to 2019)\n",
    "* [[1, 2, 3, 4, 5, 6, ,7 , 8, 9, 10]] # Truncating\n",
    "* [[1, 2, 3, 4], [2, 3, 4, 5], [3, 4, 5, 6], [4, 5, 6, 7]] \n",
    "* [1, 2, 3, 4] => LDI value (next )\n",
    "2010, 2011, 2012, 2013, 2014 => 2015\n",
    "2015, 2016, 2017, 2018, 2019 => 2020\n"
   ]
  },
  {
   "cell_type": "code",
   "execution_count": 37,
   "metadata": {},
   "outputs": [],
   "source": [
    "# MOdel fixed parameters \n",
    "# 4 years 4*3(ldi, oda_amount, total_oda)+1 = 13\n",
    "# 10 years 10*3+1 = 31 # 123"
   ]
  },
  {
   "cell_type": "code",
   "execution_count": 38,
   "metadata": {},
   "outputs": [
    {
     "data": {
      "text/plain": [
       "(10, 3)"
      ]
     },
     "execution_count": 38,
     "metadata": {},
     "output_type": "execute_result"
    }
   ],
   "source": [
    "dataset[0].shape"
   ]
  },
  {
   "cell_type": "code",
   "execution_count": 533,
   "metadata": {
    "collapsed": true
   },
   "outputs": [
    {
     "data": {
      "text/plain": [
       "array([[[2.45989424, 2.15002667, 0.222     ],\n",
       "        [2.84809764, 2.18438161, 0.223     ],\n",
       "        [4.3756989 , 2.12483418, 0.224     ],\n",
       "        [2.60717454, 1.80648563, 0.221     ]],\n",
       "\n",
       "       [[2.84809764, 2.18438161, 0.223     ],\n",
       "        [4.3756989 , 2.12483418, 0.224     ],\n",
       "        [2.60717454, 1.80648563, 0.221     ],\n",
       "        [3.02225357, 2.01162727, 0.224     ]],\n",
       "\n",
       "       [[4.3756989 , 2.12483418, 0.224     ],\n",
       "        [2.60717454, 1.80648563, 0.221     ],\n",
       "        [3.02225357, 2.01162727, 0.224     ],\n",
       "        [3.90517013, 2.10781768, 0.227     ]],\n",
       "\n",
       "       [[2.60717454, 1.80648563, 0.221     ],\n",
       "        [3.02225357, 2.01162727, 0.224     ],\n",
       "        [3.90517013, 2.10781768, 0.227     ],\n",
       "        [3.98913299, 2.11545536, 0.201     ]],\n",
       "\n",
       "       [[3.02225357, 2.01162727, 0.224     ],\n",
       "        [3.90517013, 2.10781768, 0.227     ],\n",
       "        [3.98913299, 2.11545536, 0.201     ],\n",
       "        [3.27038857, 1.85011457, 0.199     ]],\n",
       "\n",
       "       [[3.90517013, 2.10781768, 0.227     ],\n",
       "        [3.98913299, 2.11545536, 0.201     ],\n",
       "        [3.27038857, 1.85011457, 0.199     ],\n",
       "        [2.92117726, 1.58531098, 0.193     ]],\n",
       "\n",
       "       [[3.98913299, 2.11545536, 0.201     ],\n",
       "        [3.27038857, 1.85011457, 0.199     ],\n",
       "        [2.92117726, 1.58531098, 0.193     ],\n",
       "        [3.47680253, 1.77828519, 0.187     ]]])"
      ]
     },
     "execution_count": 533,
     "metadata": {},
     "output_type": "execute_result"
    }
   ],
   "source": [
    "# Working of the windowed arrays function\n",
    "create_windowed_arrays(dataset[0], 4)"
   ]
  },
  {
   "cell_type": "code",
   "execution_count": 51,
   "metadata": {},
   "outputs": [],
   "source": [
    "# Using the creaate_x_y_truncated function to shuffle the datasets\n",
    "random_x, random_y = create_x_y_truncated(dataset, 6, 3)"
   ]
  },
  {
   "cell_type": "code",
   "execution_count": 52,
   "metadata": {},
   "outputs": [
    {
     "data": {
      "text/plain": [
       "array([[2.45989424, 2.15002667, 0.222     ],\n",
       "       [2.84809764, 2.18438161, 0.223     ],\n",
       "       [4.3756989 , 2.12483418, 0.224     ],\n",
       "       [2.60717454, 1.80648563, 0.221     ],\n",
       "       [3.02225357, 2.01162727, 0.224     ]])"
      ]
     },
     "execution_count": 52,
     "metadata": {},
     "output_type": "execute_result"
    }
   ],
   "source": [
    "random_x[0]"
   ]
  },
  {
   "cell_type": "code",
   "execution_count": 53,
   "metadata": {},
   "outputs": [
    {
     "data": {
      "text/plain": [
       "array([0.227])"
      ]
     },
     "execution_count": 53,
     "metadata": {},
     "output_type": "execute_result"
    }
   ],
   "source": [
    "random_y[0] # Future two years"
   ]
  },
  {
   "cell_type": "code",
   "execution_count": 54,
   "metadata": {},
   "outputs": [
    {
     "data": {
      "text/plain": [
       "array([[2.45989424, 2.15002667, 0.222     ],\n",
       "       [2.84809764, 2.18438161, 0.223     ],\n",
       "       [4.3756989 , 2.12483418, 0.224     ],\n",
       "       [2.60717454, 1.80648563, 0.221     ],\n",
       "       [3.02225357, 2.01162727, 0.224     ],\n",
       "       [3.90517013, 2.10781768, 0.227     ],\n",
       "       [3.98913299, 2.11545536, 0.201     ],\n",
       "       [3.27038857, 1.85011457, 0.199     ],\n",
       "       [2.92117726, 1.58531098, 0.193     ],\n",
       "       [3.47680253, 1.77828519, 0.187     ]])"
      ]
     },
     "execution_count": 54,
     "metadata": {},
     "output_type": "execute_result"
    }
   ],
   "source": [
    "dataset[0]"
   ]
  },
  {
   "cell_type": "code",
   "execution_count": 55,
   "metadata": {},
   "outputs": [],
   "source": [
    "# 4 years ka data to predicti for next two years\n",
    "# 4 the data that we know/have"
   ]
  },
  {
   "cell_type": "code",
   "execution_count": 56,
   "metadata": {},
   "outputs": [
    {
     "data": {
      "text/plain": [
       "(123, 10, 3)"
      ]
     },
     "execution_count": 56,
     "metadata": {},
     "output_type": "execute_result"
    }
   ],
   "source": [
    "dataset.shape"
   ]
  },
  {
   "cell_type": "code",
   "execution_count": 57,
   "metadata": {},
   "outputs": [],
   "source": [
    "# Sampling data to aggregate the data\n",
    "X_sample, y_sample = create_x_y_truncated(dataset, 4, 3) # This works fine"
   ]
  },
  {
   "cell_type": "code",
   "execution_count": 58,
   "metadata": {},
   "outputs": [],
   "source": [
    "# Considering the last 5 years for testing on the dataset \n",
    "years_considered = 5 # 4 input years -> one output year\n",
    "X_sample, y_sample = create_x_y_truncated(dataset, years_considered, 3) # Samples considered \n",
    "X_sample, y_sample = shuffle_x_y(X_sample, y_sample) # Shuffling Datasets"
   ]
  },
  {
   "cell_type": "code",
   "execution_count": 59,
   "metadata": {},
   "outputs": [
    {
     "data": {
      "text/plain": [
       "(738, 4, 3)"
      ]
     },
     "execution_count": 59,
     "metadata": {},
     "output_type": "execute_result"
    }
   ],
   "source": [
    "X_sample.shape"
   ]
  },
  {
   "cell_type": "code",
   "execution_count": 60,
   "metadata": {},
   "outputs": [],
   "source": [
    "# Train and test set \n",
    "n_sequences = X_sample.shape[0]\n",
    "train_percentage = 70\n",
    "train_size = train_percentage*n_sequences // 100\n",
    "test_size = (100-train_percentage)*n_sequences // 100"
   ]
  },
  {
   "cell_type": "code",
   "execution_count": 61,
   "metadata": {},
   "outputs": [],
   "source": [
    "# Dividing sets \n",
    "X_train, X_test = X_sample[:train_size], X_sample[train_size:]\n",
    "y_train, y_test = y_sample[:train_size], y_sample[train_size:]"
   ]
  },
  {
   "cell_type": "code",
   "execution_count": 62,
   "metadata": {},
   "outputs": [
    {
     "data": {
      "text/plain": [
       "LinearRegression(copy_X=True, fit_intercept=True, n_jobs=None, normalize=False)"
      ]
     },
     "execution_count": 62,
     "metadata": {},
     "output_type": "execute_result"
    }
   ],
   "source": [
    "# Make a linear model \n",
    "lr = LinearRegression()\n",
    "lr.fit(X_train.reshape(-1, 4*3), y_train)"
   ]
  },
  {
   "cell_type": "code",
   "execution_count": 63,
   "metadata": {},
   "outputs": [
    {
     "name": "stdout",
     "output_type": "stream",
     "text": [
      "RMSE of when considering the Truncated Dataset:  0.023626322168838542\n"
     ]
    }
   ],
   "source": [
    "# Testing on the validation set \n",
    "from sklearn.metrics import mean_squared_error\n",
    "y_preds = lr.predict(X_test.reshape(-1, 4*3))\n",
    "rmse = np.sqrt(mean_squared_error(y_preds, y_test))\n",
    "print(\"RMSE of when considering the Truncated Dataset: \", rmse)"
   ]
  },
  {
   "cell_type": "code",
   "execution_count": 64,
   "metadata": {},
   "outputs": [
    {
     "name": "stdout",
     "output_type": "stream",
     "text": [
      "Making predictions\n",
      "Prediction:  [[0.62432567]]\n",
      "Actual Value:  [0.609]\n",
      "**************************************************\n",
      "Prediction:  [[0.23321916]]\n",
      "Actual Value:  [0.207]\n",
      "**************************************************\n",
      "Prediction:  [[0.20379953]]\n",
      "Actual Value:  [0.224]\n",
      "**************************************************\n",
      "Prediction:  [[0.10174654]]\n",
      "Actual Value:  [0.101]\n",
      "**************************************************\n",
      "Prediction:  [[0.33541427]]\n",
      "Actual Value:  [0.324]\n",
      "**************************************************\n"
     ]
    }
   ],
   "source": [
    "# Testing the new model \n",
    "n_test_samples = 5\n",
    "\n",
    "print(\"Making predictions\")\n",
    "for i in range(n_test_samples):\n",
    "    random_index  = np.random.randint(X_test.shape[0])\n",
    "    X_test_case = X_test[random_index].reshape(1, 4*3)\n",
    "    y_pred =  lr.predict(X_test_case)\n",
    "    print(\"Prediction: \", y_pred)\n",
    "    print(\"Actual Value: \", y_test[random_index]) \n",
    "    print(\"*\"*50)"
   ]
  },
  {
   "cell_type": "code",
   "execution_count": 65,
   "metadata": {},
   "outputs": [],
   "source": [
    "# Mannual Test upcoming"
   ]
  },
  {
   "cell_type": "code",
   "execution_count": 66,
   "metadata": {},
   "outputs": [
    {
     "data": {
      "text/plain": [
       "array([[0.20524655, 0.4877848 , 0.191     ],\n",
       "       [0.30689314, 0.60931415, 0.193     ],\n",
       "       [0.28933079, 0.45923155, 0.207     ],\n",
       "       [0.34694921, 0.37149647, 0.212     ]])"
      ]
     },
     "execution_count": 66,
     "metadata": {},
     "output_type": "execute_result"
    }
   ],
   "source": [
    "dataset[5][:4]"
   ]
  },
  {
   "cell_type": "code",
   "execution_count": 67,
   "metadata": {},
   "outputs": [
    {
     "data": {
      "text/plain": [
       "0.20799999999999857"
      ]
     },
     "execution_count": 67,
     "metadata": {},
     "output_type": "execute_result"
    }
   ],
   "source": [
    "dataset[5][4, 2]"
   ]
  },
  {
   "cell_type": "code",
   "execution_count": 68,
   "metadata": {},
   "outputs": [
    {
     "data": {
      "text/plain": [
       "array([[0.21500673]])"
      ]
     },
     "execution_count": 68,
     "metadata": {},
     "output_type": "execute_result"
    }
   ],
   "source": [
    "lr.predict(np.array([[0.20524655, 0.4877848 , 0.191     ],\n",
    "       [0.30689314, 0.60931415, 0.193     ],\n",
    "       [0.28933079, 0.45923155, 0.207     ],\n",
    "       [0.34694921, 0.37149647, 0.212     ]]).reshape(1, 4*3))"
   ]
  },
  {
   "cell_type": "code",
   "execution_count": 69,
   "metadata": {},
   "outputs": [
    {
     "name": "stdout",
     "output_type": "stream",
     "text": [
      "GovAmount_1    : -0.007\n",
      "Amount_1       : -0.008\n",
      "LDI_1          : -0.055\n",
      "GovAmount_2    : 0.012\n",
      "Amount_2       : -0.004\n",
      "LDI_2          : 0.228\n",
      "GovAmount_3    : -0.007\n",
      "Amount_3       : 0.008\n",
      "LDI_3          : -0.326\n",
      "GovAmount_4    : 0.004\n",
      "Amount_4       : -0.005\n",
      "LDI_4          : 1.126\n",
      "Intercept      : 0.013\n"
     ]
    }
   ],
   "source": [
    "# Model Coefficients \n",
    "coeffs, intercept = lr.coef_, lr.intercept_\n",
    "coefs_in_time_series = [\"GovAmount\", \"Amount\", \"LDI\"]*4\n",
    "coefs_indices = np.asarray([[index+1, index+1, index+1] for index in range(4)]).flatten()\n",
    "coef_names = [coef_name+\"_\"+str(index) for coef_name, index in zip(coefs_in_time_series, coefs_indices)]\n",
    "for coef_name, coef in zip(coef_names, coeffs.flatten()):\n",
    "    print(\"{0:15s}: {1:.3f}\".format(coef_name, coef))\n",
    "print(\"{0:15s}: {1:.3f}\".format(\"Intercept\", intercept[0]))"
   ]
  },
  {
   "cell_type": "code",
   "execution_count": 70,
   "metadata": {},
   "outputs": [],
   "source": [
    "# Ploting the coefficients \n",
    "data_df = np.r_[coeffs.flatten(), list(intercept)]\n",
    "coef_names_intercept = coef_names + [\"Intercept\"]\n",
    "coefs_df = pd.DataFrame(np.c_[data_df, coef_names_intercept], columns = [\"Coefficient\", \"Name\"])"
   ]
  },
  {
   "cell_type": "code",
   "execution_count": 71,
   "metadata": {},
   "outputs": [],
   "source": [
    "# Convert the columns to respective dtypes \n",
    "coefs_df[\"Coefficient\"] = coefs_df[\"Coefficient\"].astype(np.float32)\n",
    "coefs_df[\"Name\"] = coefs_df[\"Name\"].astype(str)"
   ]
  },
  {
   "cell_type": "code",
   "execution_count": 72,
   "metadata": {},
   "outputs": [
    {
     "data": {
      "image/png": "[encoded data removed]",
      "text/plain": [
       "<Figure size 720x576 with 1 Axes>"
      ]
     },
     "metadata": {
      "needs_background": "light"
     },
     "output_type": "display_data"
    }
   ],
   "source": [
    "coefs_df.plot(kind=\"bar\", x = \"Name\", y=\"Coefficient\", cmap=\"Blues_r\", \n",
    "             figsize=(10, 8))\n",
    "plt.grid(axis=\"y\")"
   ]
  },
  {
   "cell_type": "code",
   "execution_count": 73,
   "metadata": {},
   "outputs": [],
   "source": [
    "# Selected Colors\n",
    "selected_colors = []\n",
    "cmap_selected = mpl.cm.get_cmap('Blues_r')\n",
    "for color_index in range(len(coefs_df)):\n",
    "    if color_index >= 10:\n",
    "        selected_colors.append(cmap_selected(3/4))\n",
    "    else:\n",
    "        selected_colors.append(cmap_selected(0/4))"
   ]
  },
  {
   "cell_type": "code",
   "execution_count": 74,
   "metadata": {
    "collapsed": true
   },
   "outputs": [
    {
     "data": {
      "image/png": "[encoded data removed]",
      "text/plain": [
       "<Figure size 1440x1080 with 1 Axes>"
      ]
     },
     "metadata": {},
     "output_type": "display_data"
    }
   ],
   "source": [
    "# Donut Chart of the Same\n",
    "# Selected Features\n",
    "coefs_abs = coefs_df.copy()\n",
    "coefs_abs[\"Coefficient\"] = coefs_df[\"Coefficient\"].apply(lambda x: abs(x))\n",
    "coefs_abs.plot(kind = \"pie\", y = \"Coefficient\", \n",
    "             subplots = True, \n",
    "              labels = coefs_abs[\"Name\"], figsize = (20, 15),\n",
    "             colors = selected_colors)\n",
    "plt.ylabel(\"\")\n",
    "circle = plt.Circle((0, 0), 0.7, color = \"white\")\n",
    "ax = plt.gcf().gca()\n",
    "legend = ax.get_legend()\n",
    "legend.remove()\n",
    "\n",
    "ax.add_artist(circle)\n",
    "\n",
    "plt.title(\"Selected Features\", fontsize = 18)\n",
    "\n",
    "# Legend\n",
    "import matplotlib.patches as mpatches\n",
    "dark_blue = mpatches.Patch(color=cmap_selected(0/4), label='Selected')\n",
    "light_blue = mpatches.Patch(color = cmap_selected(3/4), label = \"Not Selected\")\n",
    "plt.legend(handles=[dark_blue, light_blue], loc = \"upper right\")\n",
    "plt.savefig(source+\"SelectedFeatures.png\")"
   ]
  },
  {
   "cell_type": "markdown",
   "metadata": {},
   "source": [
    "### Sudan predictions"
   ]
  },
  {
   "cell_type": "code",
   "execution_count": null,
   "metadata": {},
   "outputs": [],
   "source": [
    "# Sudan remove \n",
    "# 2014 - 4 years \n"
   ]
  },
  {
   "cell_type": "code",
   "execution_count": null,
   "metadata": {},
   "outputs": [],
   "source": [
    "# Between sudan and India\n",
    "# inmput values 4 years use to predict "
   ]
  },
  {
   "cell_type": "code",
   "execution_count": 348,
   "metadata": {},
   "outputs": [],
   "source": [
    "start_year, end_year = 2012, 2016 # We didnt 2021, 22\n",
    "ss_ldi = ldi.loc[\"South Sudan\", np.arange(start_year, end_year)]\n",
    "ss_gov_total = gov_total_amount.loc[\"South Sudan\", np.arange(start_year, end_year)]\n",
    "ss_total_amount = total_amount.loc[\"South Sudan\", np.arange(start_year, end_year)]"
   ]
  },
  {
   "cell_type": "code",
   "execution_count": 349,
   "metadata": {},
   "outputs": [],
   "source": [
    "test_case = np.c_[ss_total_amount.to_numpy(), ss_gov_total.to_numpy(), ss_ldi.to_numpy() ]"
   ]
  },
  {
   "cell_type": "code",
   "execution_count": 350,
   "metadata": {},
   "outputs": [
    {
     "data": {
      "text/plain": [
       "array([[0.07378753]])"
      ]
     },
     "execution_count": 350,
     "metadata": {},
     "output_type": "execute_result"
    }
   ],
   "source": [
    "lr.predict(test_case.reshape(1, 4*3)) # 2018"
   ]
  },
  {
   "cell_type": "code",
   "execution_count": 351,
   "metadata": {},
   "outputs": [
    {
     "data": {
      "text/plain": [
       "0.06000000000000116"
      ]
     },
     "execution_count": 351,
     "metadata": {},
     "output_type": "execute_result"
    }
   ],
   "source": [
    "ldi.loc[\"South Sudan\", end_year] # 2018 "
   ]
  },
  {
   "cell_type": "code",
   "execution_count": 77,
   "metadata": {},
   "outputs": [
    {
     "data": {
      "text/plain": [
       "['./models/model_one_year_into_future.joblib']"
      ]
     },
     "execution_count": 77,
     "metadata": {},
     "output_type": "execute_result"
    }
   ],
   "source": [
    "# Save the models into the models folder \n",
    "from joblib import dump, load\n",
    "model_1_name = save+\"model_one_year_into_future.joblib\"\n",
    "dump(lr, model_1_name)"
   ]
  },
  {
   "cell_type": "markdown",
   "metadata": {},
   "source": [
    "## Two steps prediction"
   ]
  },
  {
   "cell_type": "code",
   "execution_count": 78,
   "metadata": {},
   "outputs": [],
   "source": [
    "# Truncating windows to \n",
    "# Functions for array windowing\n",
    "def create_windowed_arrays(array, window_length=9):\n",
    "    zipped_array = zip(*[array[i:] for i in range(window_length)])\n",
    "    return np.array(list(zipped_array))\n",
    "\n",
    "# Create window truncated X and y \n",
    "def create_x_y_truncated(dataset, window_length=9, features_size = 1):\n",
    "    truncated_dataset = np.array([create_windowed_arrays(array,window_length) for array in dataset])\n",
    "    truncated_dataset = truncated_dataset.reshape(-1, window_length, features_size)\n",
    "    return truncated_dataset[:, :-2], truncated_dataset[:, -2:, 2]"
   ]
  },
  {
   "cell_type": "code",
   "execution_count": 79,
   "metadata": {},
   "outputs": [],
   "source": [
    "# Getting shapes\n",
    "# 6 years => 4 years for input -> 2 years for y \n",
    "years_considered = 5\n",
    "X_sample_two_years, y_sample_two_years = create_x_y_truncated(dataset, years_considered+1, 3) # Samples considered \n",
    "# Shuffled dataset\n",
    "shuffle_indices = np.random.permutation(np.arange(X_sample_two_years.shape[0])) \n",
    "X_sample_two_years, y_sample_two_years = X_sample_two_years[shuffle_indices, :, :], y_sample_two_years[shuffle_indices, :]"
   ]
  },
  {
   "cell_type": "code",
   "execution_count": 80,
   "metadata": {},
   "outputs": [
    {
     "data": {
      "text/plain": [
       "(615, 4, 3)"
      ]
     },
     "execution_count": 80,
     "metadata": {},
     "output_type": "execute_result"
    }
   ],
   "source": [
    "X_sample_two_years.shape"
   ]
  },
  {
   "cell_type": "code",
   "execution_count": 81,
   "metadata": {},
   "outputs": [],
   "source": [
    "# Testand train set\n",
    "n_sequences = X_sample_two_years.shape[0] # 615\n",
    "train_percentage = 70 # declaring\n",
    "train_size = train_percentage*n_sequences // 100 # n_train values\n",
    "test_size = (100-train_percentage)*n_sequences // 100\n",
    "\n",
    "# Splitting\n",
    "X_2_train, X_2_test = X_sample_two_years[:train_size, :], X_sample_two_years[train_size:, :]\n",
    "y_2_train, y_2_test = y_sample_two_years[:train_size, :], y_sample_two_years[train_size:, :]"
   ]
  },
  {
   "cell_type": "code",
   "execution_count": 82,
   "metadata": {},
   "outputs": [
    {
     "data": {
      "text/plain": [
       "(430, 4, 3)"
      ]
     },
     "execution_count": 82,
     "metadata": {},
     "output_type": "execute_result"
    }
   ],
   "source": [
    "X_2_train.shape"
   ]
  },
  {
   "cell_type": "code",
   "execution_count": 83,
   "metadata": {},
   "outputs": [
    {
     "data": {
      "text/plain": [
       "LinearRegression(copy_X=True, fit_intercept=True, n_jobs=None, normalize=False)"
      ]
     },
     "execution_count": 83,
     "metadata": {},
     "output_type": "execute_result"
    }
   ],
   "source": [
    "# Linear model \n",
    "lr_two_years = LinearRegression()\n",
    "lr_two_years.fit(X_2_train.reshape(-1, 4*3), y_2_train)"
   ]
  },
  {
   "cell_type": "code",
   "execution_count": 84,
   "metadata": {},
   "outputs": [
    {
     "name": "stdout",
     "output_type": "stream",
     "text": [
      "RMSE of when considering the Truncated Dataset:  0.04325627788339275\n"
     ]
    }
   ],
   "source": [
    "# RMSE on the test set \n",
    "y_preds = lr_two_years.predict(X_2_test.reshape(-1, 4*3))\n",
    "rmse = np.sqrt(mean_squared_error(y_preds, y_2_test))\n",
    "print(\"RMSE of when considering the Truncated Dataset: \", rmse) #.0032"
   ]
  },
  {
   "cell_type": "code",
   "execution_count": 85,
   "metadata": {},
   "outputs": [
    {
     "name": "stdout",
     "output_type": "stream",
     "text": [
      "0.04181085925869652\n"
     ]
    }
   ],
   "source": [
    "# Cross validation\n",
    "cross_val = cross_val_score(lr_two_years, X_sample_two_years.reshape(-1, 4*3), \n",
    "                            y_sample_two_years, scoring=\"neg_mean_squared_error\", \n",
    "                            cv = 5)\n",
    "print(np.sqrt(abs(cross_val.mean()))) # Built using the entire dataset -> Very low RMSE"
   ]
  },
  {
   "cell_type": "code",
   "execution_count": 89,
   "metadata": {},
   "outputs": [
    {
     "name": "stdout",
     "output_type": "stream",
     "text": [
      "Making predictions\n",
      "Prediction:  [[0.1057914  0.10574107]]\n",
      "Actual Value:  [0.107 0.106]\n",
      "**************************************************\n",
      "Prediction:  [[0.59026673 0.58590894]]\n",
      "Actual Value:  [0.58 0.56]\n",
      "**************************************************\n",
      "Prediction:  [[0.21080561 0.21238911]]\n",
      "Actual Value:  [0.208 0.207]\n",
      "**************************************************\n",
      "Prediction:  [[0.39207101 0.38423803]]\n",
      "Actual Value:  [0.427 0.406]\n",
      "**************************************************\n",
      "Prediction:  [[0.22863098 0.2236878 ]]\n",
      "Actual Value:  [0.244 0.255]\n",
      "**************************************************\n"
     ]
    }
   ],
   "source": [
    "# Testing the new model \n",
    "n_test_samples = 5\n",
    "\n",
    "print(\"Making predictions\")\n",
    "for i in range(n_test_samples):\n",
    "    random_index  = np.random.randint(X_test.shape[0])\n",
    "    X_test_case = X_2_test[random_index].reshape(1, 4*3)\n",
    "    y_pred =  lr_two_years.predict(X_test_case)\n",
    "    print(\"Prediction: \", y_pred)\n",
    "    print(\"Actual Value: \", y_2_test[random_index]) \n",
    "    print(\"*\"*50)"
   ]
  },
  {
   "cell_type": "code",
   "execution_count": 90,
   "metadata": {},
   "outputs": [],
   "source": [
    "# 613\n",
    "# dataset => train and test \n",
    "# 420 training \n",
    "# 190 [4 years => x, 2=>y] test\n",
    "\n",
    "# 4 input  years \n",
    "# 5input year"
   ]
  },
  {
   "cell_type": "code",
   "execution_count": 91,
   "metadata": {},
   "outputs": [],
   "source": [
    "# Model has to be able to generalize \n",
    "# building a model and test (replica of real-world cases)"
   ]
  },
  {
   "cell_type": "markdown",
   "metadata": {},
   "source": [
    "### Sudan predictions "
   ]
  },
  {
   "cell_type": "code",
   "execution_count": 92,
   "metadata": {},
   "outputs": [
    {
     "name": "stdout",
     "output_type": "stream",
     "text": [
      "Prediction:  [[0.05038004 0.05950019]]\n",
      "Actual Value:  [0.06399999999999631]\n"
     ]
    }
   ],
   "source": [
    "start_year, end_year = 2015, 2019\n",
    "ss_ldi = ldi.loc[\"South Sudan\", np.arange(start_year, end_year)]\n",
    "ss_gov_total = gov_total_amount.loc[\"South Sudan\", np.arange(start_year, end_year)]\n",
    "ss_total_amount = total_amount.loc[\"South Sudan\", np.arange(start_year, end_year)]\n",
    "\n",
    "test_case = np.c_[ss_total_amount.to_numpy(), ss_gov_total.to_numpy(), ss_ldi.to_numpy() ]\n",
    "\n",
    "print(\"Prediction: \", lr_two_years.predict(test_case.reshape(1, 4*3))) # 2018\n",
    "\n",
    "print(\"Actual Value: \", [ldi.loc[\"South Sudan\", end_year]]) # 2018 "
   ]
  },
  {
   "cell_type": "code",
   "execution_count": 93,
   "metadata": {},
   "outputs": [
    {
     "data": {
      "text/plain": [
       "(615, 4, 3)"
      ]
     },
     "execution_count": 93,
     "metadata": {},
     "output_type": "execute_result"
    }
   ],
   "source": [
    "X_sample_two_years.shape"
   ]
  },
  {
   "cell_type": "code",
   "execution_count": 94,
   "metadata": {},
   "outputs": [
    {
     "data": {
      "text/plain": [
       "array([[2.45989424, 2.15002667, 0.222     ],\n",
       "       [2.84809764, 2.18438161, 0.223     ],\n",
       "       [4.3756989 , 2.12483418, 0.224     ],\n",
       "       [2.60717454, 1.80648563, 0.221     ],\n",
       "       [3.02225357, 2.01162727, 0.224     ],\n",
       "       [3.90517013, 2.10781768, 0.227     ],\n",
       "       [3.98913299, 2.11545536, 0.201     ],\n",
       "       [3.27038857, 1.85011457, 0.199     ],\n",
       "       [2.92117726, 1.58531098, 0.193     ],\n",
       "       [3.47680253, 1.77828519, 0.187     ]])"
      ]
     },
     "execution_count": 94,
     "metadata": {},
     "output_type": "execute_result"
    }
   ],
   "source": [
    "dataset[0]"
   ]
  },
  {
   "cell_type": "markdown",
   "metadata": {},
   "source": [
    "### Multi-Target Model Coefficients analysis"
   ]
  },
  {
   "cell_type": "code",
   "execution_count": 95,
   "metadata": {},
   "outputs": [
    {
     "name": "stdout",
     "output_type": "stream",
     "text": [
      "Regression Number 1\n",
      "GovAmount_1    : -0.010\n",
      "Amount_1       : 0.007\n",
      "LDI_1          : -0.008\n",
      "GovAmount_2    : 0.014\n",
      "Amount_2       : -0.018\n",
      "LDI_2          : 0.251\n",
      "GovAmount_3    : -0.008\n",
      "Amount_3       : 0.011\n",
      "LDI_3          : -0.409\n",
      "GovAmount_4    : 0.005\n",
      "Amount_4       : -0.005\n",
      "LDI_4          : 1.147\n",
      "Intercept      : 0.008\n",
      "**************************************************\n",
      "Regression Number 2\n",
      "GovAmount_1    : -0.014\n",
      "Amount_1       : 0.005\n",
      "LDI_1          : -0.009\n",
      "GovAmount_2    : 0.014\n",
      "Amount_2       : -0.024\n",
      "LDI_2          : 0.250\n",
      "GovAmount_3    : 0.003\n",
      "Amount_3       : 0.014\n",
      "LDI_3          : -0.502\n",
      "GovAmount_4    : -0.001\n",
      "Amount_4       : -0.006\n",
      "LDI_4          : 1.221\n",
      "Intercept      : 0.017\n",
      "**************************************************\n"
     ]
    }
   ],
   "source": [
    "# Model Coefficients \n",
    "coeffs, intercept = lr_two_years.coef_, lr_two_years.intercept_\n",
    "coefs_in_time_series = [\"GovAmount\", \"Amount\", \"LDI\"]*4\n",
    "coefs_indices = np.asarray([[index+1, index+1, index+1] for index in range(4)]).flatten()\n",
    "coef_names = [coef_name+\"_\"+str(index) for coef_name, index in zip(coefs_in_time_series, coefs_indices)]\n",
    "for index, coef in enumerate(coeffs):\n",
    "    print(\"Regression Number\", index+1)\n",
    "    for coef_name, coef in zip(coef_names, coef.flatten()):\n",
    "        print(\"{0:15s}: {1:.3f}\".format(coef_name, coef))\n",
    "    print(\"{0:15s}: {1:.3f}\".format(\"Intercept\", intercept[index]))\n",
    "    print(\"*\"*50)"
   ]
  },
  {
   "cell_type": "code",
   "execution_count": 151,
   "metadata": {},
   "outputs": [
    {
     "data": {
      "image/png": "[encoded data removed]",
      "text/plain": [
       "<Figure size 2160x2160 with 2 Axes>"
      ]
     },
     "metadata": {
      "needs_background": "light"
     },
     "output_type": "display_data"
    }
   ],
   "source": [
    "# Plot the coefficients \n",
    "fig, axes = plt.subplots(2, 1, figsize=(30, 30))\n",
    "for index, axis in enumerate(axes):\n",
    "    coef_data = np.c_[coef_names, coeffs[index].flatten()]\n",
    "    coef_df = pd.DataFrame(coef_data, columns=[\"Name\", \"Coefs\"])\n",
    "    coef_df[\"Coefs\"] = coef_df[\"Coefs\"].astype(np.float32)\n",
    "    coef_df.plot(kind=\"bar\", y = \"Coefs\", x=\"Name\", ax=axis, \n",
    "                cmap = \"Blues_r\", fontsize = 20)\n",
    "    axis.grid(axis=\"y\")\n",
    "    axis.set_title(\"Regression Coeffients \"+str(index+1), fontsize=28)\n",
    "    axis.set_xticklabels(axis.get_xticklabels(), rotation=360)\n",
    "plt.savefig(\"./images/RegressionCoefficients.png\")"
   ]
  },
  {
   "cell_type": "markdown",
   "metadata": {},
   "source": [
    "### *One Year in the future*\n",
    "$ldi_{5} =  -0.009 * gov_{1} - 0.001 * amo_{1} - 0.070 * ldi_{1}\n",
    "            +0.013 * gov_{2} - 0.006 * amo_{2} + 0.213 * ldi_{2}\n",
    "            -0.008 * gov_{3} - 0.008 * amo_{3} - 0.253 * ldi_{3}\n",
    "            +0.006 * gov_{4} - 0.011 * amo_{4} + 1.092 * ldi_{4} + 0.012\n",
    "$\n",
    "\n",
    "### *Two Years in the future*\n",
    "$ldi_{6} =  -0.007 * gov_{1} - 0.006 * amo_{1} + 0.014 * ldi_{1}\n",
    "            +0.010 * gov_{2} - 0.010 * amo_{2} + 0.103 * ldi_{2}\n",
    "            -0.004 * gov_{3} - 0.011 * amo_{3} - 0.271 * ldi_{3}\n",
    "            -0.004 * gov_{4} - 0.014 * amo_{4} + 1.107 * ldi_{4} + 0.027\n",
    "$"
   ]
  },
  {
   "cell_type": "code",
   "execution_count": 97,
   "metadata": {},
   "outputs": [
    {
     "data": {
      "text/plain": [
       "['./models/model_two_years_into_future.joblib']"
      ]
     },
     "execution_count": 97,
     "metadata": {},
     "output_type": "execute_result"
    }
   ],
   "source": [
    "# Downloading the model \n",
    "model_2_name = \"model_two_years_into_future.joblib\"\n",
    "dump(lr, save+model_2_name)"
   ]
  },
  {
   "cell_type": "code",
   "execution_count": 98,
   "metadata": {},
   "outputs": [],
   "source": [
    "# LR with on the eniter dataset\n",
    "# X_sample_two_years is the entire X => 630\n",
    "# y_sample_two_years is the entire y => 630"
   ]
  },
  {
   "cell_type": "code",
   "execution_count": 104,
   "metadata": {},
   "outputs": [
    {
     "data": {
      "text/plain": [
       "(123, 10, 3)"
      ]
     },
     "execution_count": 104,
     "metadata": {},
     "output_type": "execute_result"
    }
   ],
   "source": [
    "# Predicting the LDI for all the countries in year 2021\n",
    "dataset.shape"
   ]
  },
  {
   "cell_type": "code",
   "execution_count": 105,
   "metadata": {},
   "outputs": [],
   "source": [
    "# Predictions on the entire dataset \n",
    "X_final = dataset[:, -4:, :] # Doesnt have y final "
   ]
  },
  {
   "cell_type": "code",
   "execution_count": 110,
   "metadata": {},
   "outputs": [],
   "source": [
    "# Predictions \n",
    "y_final_preds = lr_two_years.predict(X_final.reshape(-1, 4*3))"
   ]
  },
  {
   "cell_type": "code",
   "execution_count": 111,
   "metadata": {},
   "outputs": [
    {
     "data": {
      "text/plain": [
       "array([0.17893166, 0.16859905])"
      ]
     },
     "execution_count": 111,
     "metadata": {},
     "output_type": "execute_result"
    }
   ],
   "source": [
    "y_final_preds[0]"
   ]
  },
  {
   "cell_type": "code",
   "execution_count": 112,
   "metadata": {},
   "outputs": [
    {
     "data": {
      "text/plain": [
       "(123, 2)"
      ]
     },
     "execution_count": 112,
     "metadata": {},
     "output_type": "execute_result"
    }
   ],
   "source": [
    "y_final_preds.shape # [:, -4:, :]"
   ]
  },
  {
   "cell_type": "code",
   "execution_count": 113,
   "metadata": {
    "collapsed": true
   },
   "outputs": [
    {
     "data": {
      "text/plain": [
       "array([ 0.17893166,  0.40834365,  0.14686938,  0.20632938,  0.59169324,\n",
       "        0.64912653,  0.06721314,  0.08965542,  0.11669544,  0.38866659,\n",
       "        0.47712361,  0.31361872,  0.34900839,  0.55530657,  0.51171137,\n",
       "        0.51601284,  0.26384645,  0.06282835,  0.06811103,  0.12201593,\n",
       "        0.69327674,  0.21091547,  0.11154487,  0.05182701,  0.47802215,\n",
       "        0.18933899,  0.84442447,  0.11948657,  0.14571505,  0.13182033,\n",
       "        0.27615549,  0.43974558,  0.13964088,  0.45856386,  0.06143079,\n",
       "        0.01349545,  0.11756618,  0.17085295,  0.27383543,  0.2138404 ,\n",
       "        0.50219617,  0.59445794,  0.42010582,  0.17810228,  0.34254514,\n",
       "        0.45713828,  0.23954404,  0.23820231,  0.35127092,  0.45531514,\n",
       "        0.14769762,  0.25414476,  0.34076593,  0.69173532,  0.23503573,\n",
       "        0.13251503,  0.36752718,  0.40795075,  0.31392477,  0.11223037,\n",
       "        0.28524607,  0.4804617 ,  0.4382758 ,  0.15662939,  0.26379097,\n",
       "        0.40118359,  0.30927284,  0.36847049,  0.32979672,  0.17248095,\n",
       "        0.70102315,  0.42679048,  0.45688836,  0.51350861,  0.34570334,\n",
       "        0.24597019,  0.27127242,  0.5540853 ,  0.4467398 ,  0.07175519,\n",
       "        0.39234136,  0.3410923 ,  0.0203012 ,  0.42601285,  0.22195589,\n",
       "        0.09832822,  0.19974367,  0.56726019,  0.31438446,  0.4293105 ,\n",
       "        0.64816995,  0.30373467,  0.09731185,  0.10444151,  0.58893325,\n",
       "        0.57495453,  0.25311564,  0.39133995,  0.47586073,  0.09991847,\n",
       "        0.59553938,  0.41794963,  0.10614673,  0.60829972, -0.01571742,\n",
       "        0.04716457,  0.32912243,  0.19006736,  0.42523776,  0.49071445,\n",
       "        0.17667194,  0.63711205,  0.08882954,  0.05004995,  0.23041188,\n",
       "        0.33026393,  0.07028325,  0.64296316,  0.08260331,  0.12814265,\n",
       "        0.07015266,  0.28099499,  0.20091925])"
      ]
     },
     "execution_count": 113,
     "metadata": {},
     "output_type": "execute_result"
    }
   ],
   "source": [
    "y_final_preds[:, 0]"
   ]
  },
  {
   "cell_type": "code",
   "execution_count": 127,
   "metadata": {},
   "outputs": [],
   "source": [
    "# Make a table of next two predictions \n",
    "ldi_final = pd.DataFrame(ldi)\n",
    "ldi_final  = ldi_final.drop(\"South Sudan\")\n",
    "ldi_final[2020] = y_final_preds[:, 0]\n",
    "ldi_final[2021]  =y_final_preds[:, 1]"
   ]
  },
  {
   "cell_type": "code",
   "execution_count": 146,
   "metadata": {},
   "outputs": [
    {
     "data": {
      "text/html": [
       "<div>\n",
       "<style scoped>\n",
       "    .dataframe tbody tr th:only-of-type {\n",
       "        vertical-align: middle;\n",
       "    }\n",
       "\n",
       "    .dataframe tbody tr th {\n",
       "        vertical-align: top;\n",
       "    }\n",
       "\n",
       "    .dataframe thead th {\n",
       "        text-align: right;\n",
       "    }\n",
       "</style>\n",
       "<table border=\"1\" class=\"dataframe\">\n",
       "  <thead>\n",
       "    <tr style=\"text-align: right;\">\n",
       "      <th>YEAR</th>\n",
       "      <th>2010</th>\n",
       "      <th>2011</th>\n",
       "      <th>2012</th>\n",
       "      <th>2013</th>\n",
       "      <th>2014</th>\n",
       "      <th>2015</th>\n",
       "      <th>2016</th>\n",
       "      <th>2017</th>\n",
       "      <th>2018</th>\n",
       "      <th>2019</th>\n",
       "      <th>2020</th>\n",
       "      <th>2021</th>\n",
       "    </tr>\n",
       "    <tr>\n",
       "      <th>Recipient Name</th>\n",
       "      <th></th>\n",
       "      <th></th>\n",
       "      <th></th>\n",
       "      <th></th>\n",
       "      <th></th>\n",
       "      <th></th>\n",
       "      <th></th>\n",
       "      <th></th>\n",
       "      <th></th>\n",
       "      <th></th>\n",
       "      <th></th>\n",
       "      <th></th>\n",
       "    </tr>\n",
       "  </thead>\n",
       "  <tbody>\n",
       "    <tr>\n",
       "      <th>Afghanistan</th>\n",
       "      <td>0.222</td>\n",
       "      <td>0.223</td>\n",
       "      <td>0.224</td>\n",
       "      <td>0.221</td>\n",
       "      <td>0.224</td>\n",
       "      <td>0.227</td>\n",
       "      <td>0.201</td>\n",
       "      <td>0.199</td>\n",
       "      <td>0.193</td>\n",
       "      <td>0.187</td>\n",
       "      <td>0.178932</td>\n",
       "      <td>0.168599</td>\n",
       "    </tr>\n",
       "    <tr>\n",
       "      <th>Albania</th>\n",
       "      <td>0.444</td>\n",
       "      <td>0.444</td>\n",
       "      <td>0.441</td>\n",
       "      <td>0.421</td>\n",
       "      <td>0.431</td>\n",
       "      <td>0.433</td>\n",
       "      <td>0.433</td>\n",
       "      <td>0.430</td>\n",
       "      <td>0.421</td>\n",
       "      <td>0.407</td>\n",
       "      <td>0.408344</td>\n",
       "      <td>0.405310</td>\n",
       "    </tr>\n",
       "    <tr>\n",
       "      <th>Algeria</th>\n",
       "      <td>0.159</td>\n",
       "      <td>0.160</td>\n",
       "      <td>0.163</td>\n",
       "      <td>0.166</td>\n",
       "      <td>0.165</td>\n",
       "      <td>0.167</td>\n",
       "      <td>0.161</td>\n",
       "      <td>0.155</td>\n",
       "      <td>0.156</td>\n",
       "      <td>0.145</td>\n",
       "      <td>0.146869</td>\n",
       "      <td>0.149615</td>\n",
       "    </tr>\n",
       "    <tr>\n",
       "      <th>Angola</th>\n",
       "      <td>0.165</td>\n",
       "      <td>0.164</td>\n",
       "      <td>0.164</td>\n",
       "      <td>0.163</td>\n",
       "      <td>0.163</td>\n",
       "      <td>0.163</td>\n",
       "      <td>0.164</td>\n",
       "      <td>0.178</td>\n",
       "      <td>0.205</td>\n",
       "      <td>0.211</td>\n",
       "      <td>0.206329</td>\n",
       "      <td>0.208248</td>\n",
       "    </tr>\n",
       "    <tr>\n",
       "      <th>Argentina</th>\n",
       "      <td>0.599</td>\n",
       "      <td>0.594</td>\n",
       "      <td>0.591</td>\n",
       "      <td>0.590</td>\n",
       "      <td>0.607</td>\n",
       "      <td>0.600</td>\n",
       "      <td>0.622</td>\n",
       "      <td>0.609</td>\n",
       "      <td>0.625</td>\n",
       "      <td>0.605</td>\n",
       "      <td>0.591693</td>\n",
       "      <td>0.583880</td>\n",
       "    </tr>\n",
       "  </tbody>\n",
       "</table>\n",
       "</div>"
      ],
      "text/plain": [
       "YEAR             2010   2011   2012   2013   2014   2015   2016   2017   2018  \\\n",
       "Recipient Name                                                                  \n",
       "Afghanistan     0.222  0.223  0.224  0.221  0.224  0.227  0.201  0.199  0.193   \n",
       "Albania         0.444  0.444  0.441  0.421  0.431  0.433  0.433  0.430  0.421   \n",
       "Algeria         0.159  0.160  0.163  0.166  0.165  0.167  0.161  0.155  0.156   \n",
       "Angola          0.165  0.164  0.164  0.163  0.163  0.163  0.164  0.178  0.205   \n",
       "Argentina       0.599  0.594  0.591  0.590  0.607  0.600  0.622  0.609  0.625   \n",
       "\n",
       "YEAR             2019      2020      2021  \n",
       "Recipient Name                             \n",
       "Afghanistan     0.187  0.178932  0.168599  \n",
       "Albania         0.407  0.408344  0.405310  \n",
       "Algeria         0.145  0.146869  0.149615  \n",
       "Angola          0.211  0.206329  0.208248  \n",
       "Argentina       0.605  0.591693  0.583880  "
      ]
     },
     "execution_count": 146,
     "metadata": {},
     "output_type": "execute_result"
    }
   ],
   "source": [
    "ldi_final.head()"
   ]
  },
  {
   "cell_type": "markdown",
   "metadata": {},
   "source": [
    "### Final Report "
   ]
  },
  {
   "cell_type": "code",
   "execution_count": 132,
   "metadata": {},
   "outputs": [],
   "source": [
    "# Downloading predictions for the future and exploring them \n",
    "predictions_path = \"./predictions/predictions.csv\"\n",
    "ldi_final.to_csv(predictions_path)"
   ]
  },
  {
   "cell_type": "code",
   "execution_count": 145,
   "metadata": {},
   "outputs": [
    {
     "data": {
      "text/plain": [
       "Text(0.5, 1.0, 'Average LDI per year')"
      ]
     },
     "execution_count": 145,
     "metadata": {},
     "output_type": "execute_result"
    },
    {
     "data": {
      "image/png": "[encoded data removed]",
      "text/plain": [
       "<Figure size 432x288 with 1 Axes>"
      ]
     },
     "metadata": {
      "needs_background": "light"
     },
     "output_type": "display_data"
    }
   ],
   "source": [
    "# Exploring the predictions \n",
    "mean_ldi_per_year = ldi_final.mean()\n",
    "ax = mean_ldi_per_year.plot(kind=\"line\")\n",
    "ax.grid(axis=\"y\")\n",
    "ax.set_title(\"Average LDI per year\")"
   ]
  },
  {
   "cell_type": "markdown",
   "metadata": {},
   "source": [
    "It seems that the average ldi score is decreasing for a few years. The model predicts that this trend will continue"
   ]
  },
  {
   "cell_type": "markdown",
   "metadata": {},
   "source": [
    "### *One Year in the future*\n",
    "$ldi_{5} =  -0.009 * gov_{1} - 0.001 * amo_{1} - 0.070 * ldi_{1}\n",
    "            +0.013 * gov_{2} - 0.006 * amo_{2} + 0.213 * ldi_{2}\n",
    "            -0.008 * gov_{3} - 0.008 * amo_{3} - 0.253 * ldi_{3}\n",
    "            +0.006 * gov_{4} - 0.011 * amo_{4} + 1.092 * ldi_{4} + 0.012\n",
    "$\n",
    "\n",
    "### *Two Years in the future*\n",
    "$ldi_{6} =  -0.007 * gov_{1} - 0.006 * amo_{1} + 0.014 * ldi_{1}\n",
    "            +0.010 * gov_{2} - 0.010 * amo_{2} + 0.103 * ldi_{2}\n",
    "            -0.004 * gov_{3} - 0.011 * amo_{3} - 0.271 * ldi_{3}\n",
    "            -0.004 * gov_{4} - 0.014 * amo_{4} + 1.107 * ldi_{4} + 0.027\n",
    "$"
   ]
  },
  {
   "cell_type": "markdown",
   "metadata": {},
   "source": [
    "## Sources\n",
    "1) OECD Dataset from OECD stats (https://stats.oecd.org/)"
   ]
  }
 ],
 "metadata": {
  "kernelspec": {
   "display_name": "Python 3",
   "language": "python",
   "name": "python3"
  },
  "language_info": {
   "codemirror_mode": {
    "name": "ipython",
    "version": 3
   },
   "file_extension": ".py",
   "mimetype": "text/x-python",
   "name": "python",
   "nbconvert_exporter": "python",
   "pygments_lexer": "ipython3",
   "version": "3.7.6"
  }
 },
 "nbformat": 4,
 "nbformat_minor": 4
}
